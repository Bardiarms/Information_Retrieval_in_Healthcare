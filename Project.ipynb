{
 "cells": [
  {
   "cell_type": "markdown",
   "metadata": {},
   "source": [
    "# Implementation"
   ]
  },
  {
   "cell_type": "markdown",
   "metadata": {},
   "source": [
    "## Step 1: Dataset Prepration"
   ]
  },
  {
   "cell_type": "code",
   "execution_count": 1,
   "metadata": {},
   "outputs": [],
   "source": [
    "import pandas as pd"
   ]
  },
  {
   "cell_type": "markdown",
   "metadata": {},
   "source": [
    "### Load the dataset"
   ]
  },
  {
   "cell_type": "code",
   "execution_count": 3,
   "metadata": {},
   "outputs": [],
   "source": [
    "df = pd.read_excel(\"MeQSum_ACL2019_BenAbacha_Demner-Fushman.xlsx\")"
   ]
  },
  {
   "cell_type": "code",
   "execution_count": 4,
   "metadata": {},
   "outputs": [
    {
     "data": {
      "text/html": [
       "<div>\n",
       "<style scoped>\n",
       "    .dataframe tbody tr th:only-of-type {\n",
       "        vertical-align: middle;\n",
       "    }\n",
       "\n",
       "    .dataframe tbody tr th {\n",
       "        vertical-align: top;\n",
       "    }\n",
       "\n",
       "    .dataframe thead th {\n",
       "        text-align: right;\n",
       "    }\n",
       "</style>\n",
       "<table border=\"1\" class=\"dataframe\">\n",
       "  <thead>\n",
       "    <tr style=\"text-align: right;\">\n",
       "      <th></th>\n",
       "      <th>File</th>\n",
       "      <th>CHQ</th>\n",
       "      <th>Summary</th>\n",
       "    </tr>\n",
       "  </thead>\n",
       "  <tbody>\n",
       "    <tr>\n",
       "      <th>0</th>\n",
       "      <td>1-131188152.xml.txt</td>\n",
       "      <td>SUBJECT: who and where to get cetirizine - D\\n...</td>\n",
       "      <td>Who manufactures cetirizine?</td>\n",
       "    </tr>\n",
       "    <tr>\n",
       "      <th>1</th>\n",
       "      <td>14348.txt</td>\n",
       "      <td>who makes bromocriptine\\ni am wondering what c...</td>\n",
       "      <td>Who manufactures bromocriptine?</td>\n",
       "    </tr>\n",
       "    <tr>\n",
       "      <th>2</th>\n",
       "      <td>1-131985747.xml.txt</td>\n",
       "      <td>SUBJECT: nulytely\\nMESSAGE: Hello can you tell...</td>\n",
       "      <td>Who makes nulytely, and where can I buy it?</td>\n",
       "    </tr>\n",
       "    <tr>\n",
       "      <th>3</th>\n",
       "      <td>15410.txt</td>\n",
       "      <td>Williams' syndrome\\nI would like to have my da...</td>\n",
       "      <td>Where can I get genetic testing for william's ...</td>\n",
       "    </tr>\n",
       "    <tr>\n",
       "      <th>4</th>\n",
       "      <td>35.txt</td>\n",
       "      <td>ClinicalTrials.gov - Question - general inform...</td>\n",
       "      <td>Where can I get genetic testing for multiple m...</td>\n",
       "    </tr>\n",
       "  </tbody>\n",
       "</table>\n",
       "</div>"
      ],
      "text/plain": [
       "                  File                                                CHQ  \\\n",
       "0  1-131188152.xml.txt  SUBJECT: who and where to get cetirizine - D\\n...   \n",
       "1            14348.txt  who makes bromocriptine\\ni am wondering what c...   \n",
       "2  1-131985747.xml.txt  SUBJECT: nulytely\\nMESSAGE: Hello can you tell...   \n",
       "3            15410.txt  Williams' syndrome\\nI would like to have my da...   \n",
       "4               35.txt  ClinicalTrials.gov - Question - general inform...   \n",
       "\n",
       "                                             Summary  \n",
       "0                       Who manufactures cetirizine?  \n",
       "1                    Who manufactures bromocriptine?  \n",
       "2        Who makes nulytely, and where can I buy it?  \n",
       "3  Where can I get genetic testing for william's ...  \n",
       "4  Where can I get genetic testing for multiple m...  "
      ]
     },
     "execution_count": 4,
     "metadata": {},
     "output_type": "execute_result"
    }
   ],
   "source": [
    "df.head()"
   ]
  },
  {
   "cell_type": "code",
   "execution_count": 5,
   "metadata": {},
   "outputs": [
    {
     "name": "stdout",
     "output_type": "stream",
     "text": [
      "<class 'pandas.core.frame.DataFrame'>\n",
      "RangeIndex: 1000 entries, 0 to 999\n",
      "Data columns (total 3 columns):\n",
      " #   Column   Non-Null Count  Dtype \n",
      "---  ------   --------------  ----- \n",
      " 0   File     1000 non-null   object\n",
      " 1   CHQ      1000 non-null   object\n",
      " 2   Summary  1000 non-null   object\n",
      "dtypes: object(3)\n",
      "memory usage: 23.6+ KB\n"
     ]
    }
   ],
   "source": [
    "df.info()"
   ]
  },
  {
   "cell_type": "markdown",
   "metadata": {},
   "source": [
    "### Data Preprocessing"
   ]
  },
  {
   "cell_type": "code",
   "execution_count": 8,
   "metadata": {},
   "outputs": [],
   "source": [
    "import re"
   ]
  },
  {
   "cell_type": "code",
   "execution_count": 9,
   "metadata": {},
   "outputs": [],
   "source": [
    "def clean_text(text):\n",
    "    \n",
    "    # Remove special characters and numbers\n",
    "    text = re.sub(r'[^a-zA-Z\\s]', '', text)  \n",
    "    text = re.sub(r'\\s+', ' ', text).strip()  # Replace multiple spaces with a single space\n",
    "    text = text.lower()  # Convert to lowercase\n",
    "    \n",
    "    return text"
   ]
  },
  {
   "cell_type": "code",
   "execution_count": 10,
   "metadata": {},
   "outputs": [],
   "source": [
    "# Apply the function to both columns\n",
    "df['CHQ'] = df['CHQ'].apply(clean_text)\n",
    "df['Summary'] = df['Summary'].apply(clean_text)"
   ]
  },
  {
   "cell_type": "code",
   "execution_count": 12,
   "metadata": {},
   "outputs": [],
   "source": [
    "\n",
    "# Remove extremely short or extremely long sentences\n",
    "\n",
    "df = df[df['CHQ'].apply(lambda x: len(x.split()) >= 5)]\n",
    "df = df[df['Summary'].apply(lambda x: len(x.split()) >= 5)]\n",
    "\n",
    "df = df[df['CHQ'].apply(lambda x: len(x.split()) <= 300)]\n",
    "df = df[df['Summary'].apply(lambda x: len(x.split()) <= 300)]\n"
   ]
  },
  {
   "cell_type": "code",
   "execution_count": 13,
   "metadata": {},
   "outputs": [
    {
     "name": "stdout",
     "output_type": "stream",
     "text": [
      "<class 'pandas.core.frame.DataFrame'>\n",
      "Index: 974 entries, 2 to 999\n",
      "Data columns (total 3 columns):\n",
      " #   Column   Non-Null Count  Dtype \n",
      "---  ------   --------------  ----- \n",
      " 0   File     974 non-null    object\n",
      " 1   CHQ      974 non-null    object\n",
      " 2   Summary  974 non-null    object\n",
      "dtypes: object(3)\n",
      "memory usage: 30.4+ KB\n"
     ]
    }
   ],
   "source": [
    "df.info()"
   ]
  },
  {
   "cell_type": "markdown",
   "metadata": {},
   "source": [
    "26 rows are removed after cleaning."
   ]
  }
 ],
 "metadata": {
  "kernelspec": {
   "display_name": "env",
   "language": "python",
   "name": "python3"
  },
  "language_info": {
   "codemirror_mode": {
    "name": "ipython",
    "version": 3
   },
   "file_extension": ".py",
   "mimetype": "text/x-python",
   "name": "python",
   "nbconvert_exporter": "python",
   "pygments_lexer": "ipython3",
   "version": "3.13.1"
  }
 },
 "nbformat": 4,
 "nbformat_minor": 2
}
